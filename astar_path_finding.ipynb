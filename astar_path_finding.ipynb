{
  "nbformat": 4,
  "nbformat_minor": 0,
  "metadata": {
    "colab": {
      "provenance": []
    },
    "kernelspec": {
      "name": "python3",
      "display_name": "Python 3"
    },
    "language_info": {
      "name": "python"
    }
  },
  "cells": [
    {
      "cell_type": "code",
      "execution_count": 2,
      "metadata": {
        "id": "aNyF3FA95fBZ"
      },
      "outputs": [],
      "source": [
        "# Initial State Depiction (Handles Dynamic Input)\n",
        "def input_graph_data():\n",
        "    graph = {}\n",
        "    coordinates = {}\n",
        "\n",
        "    num_nodes = int(input(\"Enter the number of nodes: \"))\n",
        "\n",
        "    for i in range(num_nodes):\n",
        "        node_label = input(\"Enter node label: \")\n",
        "        x, y = map(int, input(f\"Enter coordinates (x y) for node {node_label}: \").split())\n",
        "        coordinates[node_label] = (x, y)\n",
        "\n",
        "        num_edges = int(input(f\"Enter the number of edges for node {node_label}: \"))\n",
        "        graph[node_label] = {}\n",
        "        for _ in range(num_edges):\n",
        "            neighbor, cost = input(f\"Enter neighbor and cost for node {node_label}: \").split()\n",
        "            graph[node_label][neighbor] = int(cost)\n",
        "\n",
        "    return graph, coordinates"
      ]
    },
    {
      "cell_type": "code",
      "source": [
        "# Implementing the A Star Algorithm\n",
        "import math\n",
        "\n",
        "class Node():\n",
        "    \"\"\"A node class for A* Pathfinding\"\"\"\n",
        "\n",
        "    def __init__(self, parent=None, label=None, visited_edges=None):\n",
        "        self.parent = parent\n",
        "        self.label = label\n",
        "        self.visited_edges = visited_edges if visited_edges is not None else set()\n",
        "\n",
        "        self.g = 0  # Path cost from the start node to the current node\n",
        "        self.h = 0  # Heuristic estimate of the remaining cost to reach the goal from the current node\n",
        "        self.f = 0  # Total estimated cost: f = g + h\n",
        "\n",
        "    def __eq__(self, other):\n",
        "        return self.label == other.label and self.visited_edges == other.visited_edges\n",
        "\n",
        "def euclidean_distance(point1, point2):\n",
        "    \"\"\"Calculate Euclidean distance between two points.\"\"\"\n",
        "    return math.sqrt((point1[0] - point2[0]) ** 2 + (point1[1] - point2[1]) ** 2)\n",
        "\n",
        "def get_successor_states(current_state, graph):\n",
        "    \"\"\"\n",
        "    Generates successor states (cities) reachable from the current state (city)\n",
        "    based on the provided graph structure.\n",
        "\n",
        "    Args:\n",
        "    - current_state: Current state (city)\n",
        "    - graph: Graph structure representing connections between cities\n",
        "\n",
        "    Returns:\n",
        "    - successor_states: List of successor states (cities)\n",
        "    \"\"\"\n",
        "    successor_states = []\n",
        "\n",
        "    # Check if the current state has neighbors in the graph\n",
        "    if current_state in graph:\n",
        "        # Get the neighbors (successor states) of the current state\n",
        "        successor_states = list(graph[current_state].keys())\n",
        "\n",
        "    return successor_states, None  # Dummy variable to ensure only two values are returned\n",
        "\n",
        "\n",
        "def astar(graph, coordinates, start):\n",
        "    \"\"\"Returns a list of tuples as a path from the given start covering all edges in the given graph\"\"\"\n",
        "\n",
        "    # Create start node\n",
        "    start_node = Node(None, start)\n",
        "    start_node.g = start_node.h = start_node.f = 0\n",
        "\n",
        "    # Initialize both open and closed list\n",
        "    open_list = []\n",
        "    closed_list = set()\n",
        "\n",
        "    # Add the start node\n",
        "    open_list.append(start_node)\n",
        "\n",
        "    # Loop until all edges are covered\n",
        "    while open_list:\n",
        "\n",
        "        # Get the current node\n",
        "        current_node = open_list[0]\n",
        "        current_index = 0\n",
        "        for index, item in enumerate(open_list):\n",
        "            if item.f < current_node.f:\n",
        "                current_node = item\n",
        "                current_index = index\n",
        "\n",
        "        # Pop current off open list, add to closed list\n",
        "        open_list.pop(current_index)\n",
        "        closed_list.add((current_node.label, tuple(sorted(current_node.visited_edges))))\n",
        "\n",
        "        # Generate successor states\n",
        "        successor_states, _ = get_successor_states(current_node.label, graph)\n",
        "\n",
        "        for neighbor in successor_states:\n",
        "\n",
        "            # Create new node\n",
        "            new_node = Node(current_node, neighbor, set(current_node.visited_edges))\n",
        "            new_node.visited_edges.add(neighbor)\n",
        "\n",
        "            # Calculate the path cost from the start node to the current child node\n",
        "            new_node.g = current_node.g + graph[current_node.label][neighbor]\n",
        "\n",
        "            # Calculate the heuristic estimate of the remaining cost to reach the goal from the current child node\n",
        "            unvisited_edges = set(graph.keys()) - new_node.visited_edges\n",
        "            remaining_cost = sum(euclidean_distance(coordinates[edge], coordinates[neighbor]) for edge in unvisited_edges)\n",
        "            new_node.h = remaining_cost\n",
        "\n",
        "            # Calculate the total estimated cost\n",
        "            new_node.f = new_node.g + new_node.h\n",
        "\n",
        "            # Child is already in the closed list\n",
        "            if (new_node.label, tuple(sorted(new_node.visited_edges))) in closed_list:\n",
        "                continue\n",
        "\n",
        "            # Add the child to the open list\n",
        "            open_list.append(new_node)\n",
        "\n",
        "    # Construct the path\n",
        "    path = []\n",
        "    current = current_node\n",
        "    while current is not None:\n",
        "        path.append(coordinates[current.label])\n",
        "        current = current.parent\n",
        "    return path[::-1]  # Return reversed path"
      ],
      "metadata": {
        "id": "Z4vWoEV8FB3m"
      },
      "execution_count": 3,
      "outputs": []
    },
    {
      "cell_type": "code",
      "source": [
        "# Input graph data\n",
        "graph, coordinates = input_graph_data()\n",
        "start_point = input(\"Enter the start point: \")"
      ],
      "metadata": {
        "colab": {
          "base_uri": "https://localhost:8080/",
          "height": 355
        },
        "id": "Itok0mzyFZ8C",
        "outputId": "de3c3ff4-705c-4ec1-b832-c452b693db50"
      },
      "execution_count": 4,
      "outputs": [
        {
          "output_type": "error",
          "ename": "KeyboardInterrupt",
          "evalue": "Interrupted by user",
          "traceback": [
            "\u001b[0;31m---------------------------------------------------------------------------\u001b[0m",
            "\u001b[0;31mKeyboardInterrupt\u001b[0m                         Traceback (most recent call last)",
            "\u001b[0;32m<ipython-input-4-12101acf4757>\u001b[0m in \u001b[0;36m<cell line: 2>\u001b[0;34m()\u001b[0m\n\u001b[1;32m      1\u001b[0m \u001b[0;31m# Input graph data\u001b[0m\u001b[0;34m\u001b[0m\u001b[0;34m\u001b[0m\u001b[0m\n\u001b[0;32m----> 2\u001b[0;31m \u001b[0mgraph\u001b[0m\u001b[0;34m,\u001b[0m \u001b[0mcoordinates\u001b[0m \u001b[0;34m=\u001b[0m \u001b[0minput_graph_data\u001b[0m\u001b[0;34m(\u001b[0m\u001b[0;34m)\u001b[0m\u001b[0;34m\u001b[0m\u001b[0;34m\u001b[0m\u001b[0m\n\u001b[0m\u001b[1;32m      3\u001b[0m \u001b[0mstart_point\u001b[0m \u001b[0;34m=\u001b[0m \u001b[0minput\u001b[0m\u001b[0;34m(\u001b[0m\u001b[0;34m\"Enter the start point: \"\u001b[0m\u001b[0;34m)\u001b[0m\u001b[0;34m\u001b[0m\u001b[0;34m\u001b[0m\u001b[0m\n",
            "\u001b[0;32m<ipython-input-2-f6f866c2a571>\u001b[0m in \u001b[0;36minput_graph_data\u001b[0;34m()\u001b[0m\n\u001b[1;32m      4\u001b[0m     \u001b[0mcoordinates\u001b[0m \u001b[0;34m=\u001b[0m \u001b[0;34m{\u001b[0m\u001b[0;34m}\u001b[0m\u001b[0;34m\u001b[0m\u001b[0;34m\u001b[0m\u001b[0m\n\u001b[1;32m      5\u001b[0m \u001b[0;34m\u001b[0m\u001b[0m\n\u001b[0;32m----> 6\u001b[0;31m     \u001b[0mnum_nodes\u001b[0m \u001b[0;34m=\u001b[0m \u001b[0mint\u001b[0m\u001b[0;34m(\u001b[0m\u001b[0minput\u001b[0m\u001b[0;34m(\u001b[0m\u001b[0;34m\"Enter the number of nodes: \"\u001b[0m\u001b[0;34m)\u001b[0m\u001b[0;34m)\u001b[0m\u001b[0;34m\u001b[0m\u001b[0;34m\u001b[0m\u001b[0m\n\u001b[0m\u001b[1;32m      7\u001b[0m \u001b[0;34m\u001b[0m\u001b[0m\n\u001b[1;32m      8\u001b[0m     \u001b[0;32mfor\u001b[0m \u001b[0mi\u001b[0m \u001b[0;32min\u001b[0m \u001b[0mrange\u001b[0m\u001b[0;34m(\u001b[0m\u001b[0mnum_nodes\u001b[0m\u001b[0;34m)\u001b[0m\u001b[0;34m:\u001b[0m\u001b[0;34m\u001b[0m\u001b[0;34m\u001b[0m\u001b[0m\n",
            "\u001b[0;32m/usr/local/lib/python3.10/dist-packages/ipykernel/kernelbase.py\u001b[0m in \u001b[0;36mraw_input\u001b[0;34m(self, prompt)\u001b[0m\n\u001b[1;32m    849\u001b[0m                 \u001b[0;34m\"raw_input was called, but this frontend does not support input requests.\"\u001b[0m\u001b[0;34m\u001b[0m\u001b[0;34m\u001b[0m\u001b[0m\n\u001b[1;32m    850\u001b[0m             )\n\u001b[0;32m--> 851\u001b[0;31m         return self._input_request(str(prompt),\n\u001b[0m\u001b[1;32m    852\u001b[0m             \u001b[0mself\u001b[0m\u001b[0;34m.\u001b[0m\u001b[0m_parent_ident\u001b[0m\u001b[0;34m,\u001b[0m\u001b[0;34m\u001b[0m\u001b[0;34m\u001b[0m\u001b[0m\n\u001b[1;32m    853\u001b[0m             \u001b[0mself\u001b[0m\u001b[0;34m.\u001b[0m\u001b[0m_parent_header\u001b[0m\u001b[0;34m,\u001b[0m\u001b[0;34m\u001b[0m\u001b[0;34m\u001b[0m\u001b[0m\n",
            "\u001b[0;32m/usr/local/lib/python3.10/dist-packages/ipykernel/kernelbase.py\u001b[0m in \u001b[0;36m_input_request\u001b[0;34m(self, prompt, ident, parent, password)\u001b[0m\n\u001b[1;32m    893\u001b[0m             \u001b[0;32mexcept\u001b[0m \u001b[0mKeyboardInterrupt\u001b[0m\u001b[0;34m:\u001b[0m\u001b[0;34m\u001b[0m\u001b[0;34m\u001b[0m\u001b[0m\n\u001b[1;32m    894\u001b[0m                 \u001b[0;31m# re-raise KeyboardInterrupt, to truncate traceback\u001b[0m\u001b[0;34m\u001b[0m\u001b[0;34m\u001b[0m\u001b[0m\n\u001b[0;32m--> 895\u001b[0;31m                 \u001b[0;32mraise\u001b[0m \u001b[0mKeyboardInterrupt\u001b[0m\u001b[0;34m(\u001b[0m\u001b[0;34m\"Interrupted by user\"\u001b[0m\u001b[0;34m)\u001b[0m \u001b[0;32mfrom\u001b[0m \u001b[0;32mNone\u001b[0m\u001b[0;34m\u001b[0m\u001b[0;34m\u001b[0m\u001b[0m\n\u001b[0m\u001b[1;32m    896\u001b[0m             \u001b[0;32mexcept\u001b[0m \u001b[0mException\u001b[0m \u001b[0;32mas\u001b[0m \u001b[0me\u001b[0m\u001b[0;34m:\u001b[0m\u001b[0;34m\u001b[0m\u001b[0;34m\u001b[0m\u001b[0m\n\u001b[1;32m    897\u001b[0m                 \u001b[0mself\u001b[0m\u001b[0;34m.\u001b[0m\u001b[0mlog\u001b[0m\u001b[0;34m.\u001b[0m\u001b[0mwarning\u001b[0m\u001b[0;34m(\u001b[0m\u001b[0;34m\"Invalid Message:\"\u001b[0m\u001b[0;34m,\u001b[0m \u001b[0mexc_info\u001b[0m\u001b[0;34m=\u001b[0m\u001b[0;32mTrue\u001b[0m\u001b[0;34m)\u001b[0m\u001b[0;34m\u001b[0m\u001b[0;34m\u001b[0m\u001b[0m\n",
            "\u001b[0;31mKeyboardInterrupt\u001b[0m: Interrupted by user"
          ]
        }
      ]
    },
    {
      "cell_type": "code",
      "source": [
        "path = astar(graph, coordinates, start_point)\n",
        "print(\"Shortest path:\", path)"
      ],
      "metadata": {
        "id": "-h6zVq_hFc6w"
      },
      "execution_count": null,
      "outputs": []
    }
  ]
}